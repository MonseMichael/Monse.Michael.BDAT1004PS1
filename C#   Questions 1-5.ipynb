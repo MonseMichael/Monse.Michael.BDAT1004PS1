{
 "cells": [
  {
   "cell_type": "markdown",
   "id": "eaba75e3",
   "metadata": {},
   "source": [
    "# C#    Questions 1-5\n",
    "\n"
   ]
  },
  {
   "cell_type": "markdown",
   "id": "d2f85640",
   "metadata": {},
   "source": [
    "\n",
    "# Question 1\n",
    "\n",
    "What data type is each of the following?\n",
    "\n",
    "5 : Integer\n",
    "\n",
    "5.0 : Float\n",
    "\n",
    "5 > 1 : Boolean\n",
    "\n",
    "'5' : String\n",
    "\n",
    "5 * 2 : Integer\n",
    "\n",
    "'5' * 2 : String\n",
    "\n",
    "'5' + '2' : String\n",
    "\n",
    "5 / 2 : Float\n",
    "\n",
    "5 % 2 : Integer\n",
    "\n",
    "{5, 2, 1} : Array\n",
    "\n",
    "5 == 3 : Boolean\n",
    "\n",
    "Pi (the number) : Float\n"
   ]
  },
  {
   "cell_type": "markdown",
   "id": "2c55e966",
   "metadata": {},
   "source": [
    "# Question 2\n",
    "\n",
    "Write (and evaluate) C# expressions that answer these questions:\n",
    "\n",
    "a. How many letters are there in 'Supercalifragilisticexpialidocious'?\n",
    "\n",
    "b. Does 'Supercalifragilisticexpialidocious' contain 'ice' as a substring? \n",
    "\n",
    "c. Which of the following words is the longest:\n",
    "Supercalifragilisticexpialidocious, Honorificabilitudinitatibus, or Bababadalgharaghtakamminarronnkonn?\n",
    "\n",
    "d. Which composer comes first in the dictionary: 'Berlioz', 'Borodin', 'Brian',\n",
    "'Bartok', 'Bellini', 'Buxtehude', 'Bernstein'. Which one comes last?\n",
    "\n"
   ]
  },
  {
   "cell_type": "code",
   "execution_count": 1,
   "id": "87c5b1ca",
   "metadata": {},
   "outputs": [
    {
     "name": "stdout",
     "output_type": "stream",
     "text": [
      "The length of the given string is 34 \r\n"
     ]
    }
   ],
   "source": [
    "// 2.a\n",
    "\n",
    "string str = \"Supercalifragilisticexpialidocious\";\n",
    "int str_length = str.Length;\n",
    "Console.WriteLine($\"The length of the given string is {str_length} \");\n"
   ]
  },
  {
   "cell_type": "code",
   "execution_count": 5,
   "id": "5fd44176",
   "metadata": {},
   "outputs": [
    {
     "name": "stdout",
     "output_type": "stream",
     "text": [
      "Supercalifragilisticexpialidocious contain ice as a substring\r\n"
     ]
    }
   ],
   "source": [
    "// 2.b\n",
    "\n",
    "string str = \"Supercalifragilisticexpialidocious\" ;  \n",
    "if (str.Contains(\"ice\"))\n",
    "    {\n",
    "    Console.WriteLine($\"{str} contain ice as a substring\");\n",
    "    }"
   ]
  },
  {
   "cell_type": "code",
   "execution_count": 7,
   "id": "d63421a6",
   "metadata": {},
   "outputs": [
    {
     "name": "stdout",
     "output_type": "stream",
     "text": [
      "Supercalifragilisticexpialidocious and Bababadalgharaghtakamminarronnkonn are the longest words.\r\n"
     ]
    }
   ],
   "source": [
    "// 2.c\n",
    "\n",
    "String str1 = \"Supercalifragilisticexpialidocious\";\n",
    "String str2 = \"Honorificabilitudinitatibus\";\n",
    "String str3 = \"Bababadalgharaghtakamminarronnkonn\";\n",
    "int str1_length = str1.Length;\n",
    "int str2_length = str2.Length;\n",
    "int str3_length = str3.Length;\n",
    "\n",
    "while (str1_length > str2_length && str1_length > str3_length)\n",
    "{\n",
    "    Console.WriteLine(\"{0} is the longest word.\",str1);\n",
    "    break;\n",
    "}\n",
    "while (str2_length > str1_length && str2_length > str3_length)\n",
    "{\n",
    "    Console.WriteLine(\"{0} is the longest word.\", str2);\n",
    "    break;\n",
    "}\n",
    "while (str3_length > str1_length && str3_length > str2_length)\n",
    "{\n",
    "    Console.WriteLine(\"{0} is the longest word.\", str3);\n",
    "    break;\n",
    "}\n",
    "while (str1_length == str2_length)\n",
    "{\n",
    "    Console.WriteLine(\"{0} and {1} are the longest words.\", str1,str2);\n",
    "    break;\n",
    "}\n",
    "while (str2_length == str3_length)\n",
    "{\n",
    "    Console.WriteLine(\"{0} and {1} are the longest words.\", str2, str3);\n",
    "    break;\n",
    "}\n",
    "while (str1_length == str3_length)\n",
    "{\n",
    "    Console.WriteLine(\"{0} and {1} are the longest words.\", str1, str3);\n",
    "    break;\n",
    "} "
   ]
  },
  {
   "cell_type": "code",
   "execution_count": 9,
   "id": "2b6f35c0",
   "metadata": {},
   "outputs": [
    {
     "name": "stdout",
     "output_type": "stream",
     "text": [
      "The first composer in Dictionary is Bartok\n",
      "The Last composer in Dictionary is Buxtehude\n"
     ]
    }
   ],
   "source": [
    "// 2.d\n",
    "\n",
    "string[] dictionary = {\"Berlioz\", \"Borodin\", \"Brian\", \"Bartok\", \"Bellini\", \"Buxtehude\", \"Bernstein\"};\n",
    "Array.Sort(dictionary);  \n",
    "Console.WriteLine($\"The first composer in Dictionary is {dictionary[0]}\");\n",
    "Array.Reverse(dictionary);\n",
    "Console.WriteLine($\"The Last composer in Dictionary is {dictionary[0]}\");"
   ]
  },
  {
   "cell_type": "markdown",
   "id": "ddd5e1d9",
   "metadata": {},
   "source": [
    "# Question 3\n",
    "\n",
    "Implement function triangleArea(a,b,c) that takes as input the lengths of the 3 sides of a triangle and returns the area of the triangle. By Heron's formula, the area of a triangle with side lengths a, b, and c is\n",
    "s(s - a)(s -b)(s -c), where s = (a+b+c)/2.\n",
    ">>> triangleArea(2,2,2)\n",
    "1.7320508075688772\n"
   ]
  },
  {
   "cell_type": "code",
   "execution_count": 10,
   "id": "1d4121b3",
   "metadata": {},
   "outputs": [
    {
     "name": "stdout",
     "output_type": "stream",
     "text": [
      "Area of Triangle = 1.7320508075688772\r\n"
     ]
    }
   ],
   "source": [
    "static void triangleArea(double a, double b, double c)\n",
    "        {\n",
    "            double s, area;\n",
    "            s = (a + b + c) / 2;\n",
    "            area = Math.Sqrt(s * ( s - a) * (s - b) * (s - c)); \n",
    "            Console.WriteLine(\"Area of Triangle = {0}\",area);\n",
    "        }   \n",
    "triangleArea(2,2,2)"
   ]
  },
  {
   "cell_type": "markdown",
   "id": "04af2985",
   "metadata": {},
   "source": [
    "# Question 4\n",
    "\n",
    "Write a program in C# Sharp to separate odd and even integers in separate arrays.\n",
    "\n",
    "Go to the editor\n",
    "\n",
    "Test Data :\n",
    "\n",
    "Input the number of elements to be stored in the array :5\n",
    "\n",
    "Input 5 elements in the array :\n",
    "\n",
    "element - 0 : 25\n",
    "\n",
    "element - 1 : 47\n",
    "\n",
    "element - 2 : 42\n",
    "\n",
    "element - 3 : 56\n",
    "\n",
    "element - 4 : 32\n",
    "\n",
    "Expected Output:\n",
    "\n",
    "The Even elements are:\n",
    "\n",
    "42 56 32\n",
    "\n",
    "The Odd elements are :\n",
    "\n",
    "25 47"
   ]
  },
  {
   "cell_type": "code",
   "execution_count": 12,
   "id": "5ac94b86",
   "metadata": {},
   "outputs": [
    {
     "name": "stdout",
     "output_type": "stream",
     "text": [
      "The Number of elements to be stored in the array: 5\n",
      "Input 5 elements in array: \n",
      "element-0: 25\n",
      "element-1: 47\n",
      "element-2: 42\n",
      "element-3: 56\n",
      "element-4: 32\n",
      "The Even elements are:\n",
      "42 56 32\n",
      "The Odd elements are:\n",
      "25 47\n"
     ]
    }
   ],
   "source": [
    "List<int> OddList = new List<int>();\n",
    "List<int> EvenList = new List<int>();\n",
    "\n",
    "int ArrayLength = 5;\n",
    "\n",
    "Console.WriteLine(\"The Number of elements to be stored in the array: {0}\",ArrayLength);\n",
    "Console.WriteLine(\"Input {0} elements in array: \",ArrayLength);\n",
    "\n",
    "int[] arr = {25,47,42,56,32};\n",
    "\n",
    "for (int i =0;i<ArrayLength;i++)\n",
    "   {\n",
    "     Console.WriteLine(\"element-{0}: {1}\",i, arr[i]);\n",
    "   }\n",
    "\n",
    "foreach (var element in arr)\n",
    "   {   \n",
    "      if (element % 2 == 0)\n",
    "          {\n",
    "            EvenList.Add(element);\n",
    "           }\n",
    "      else\n",
    "           {\n",
    "               OddList.Add(element);\n",
    "           }\n",
    "    }\n",
    "    \n",
    "Console.WriteLine(\"The Even elements are:\\n{0}\", string.Join(\" \", EvenList ));\n",
    "Console.WriteLine(\"The Odd elements are:\\n{0}\",string.Join(\" \", OddList ));"
   ]
  },
  {
   "cell_type": "markdown",
   "id": "d2aab53d",
   "metadata": {},
   "source": [
    "# Question 5\n",
    "\n",
    "a. Write a function inside(x,y,x1,y1,x2,y2) that returns True or False depending on whether the point (x,y) lies in the rectangle with lower left corner (x1,y1) and upper right corner (x2,y2).\n",
    "\n",
    ">>> inside(1,1,0,0,2,3)\n",
    "\n",
    "True\n",
    "\n",
    ">>> inside(-1,-1,0,0,2,3)\n",
    "\n",
    "False\n",
    "\n",
    "b. Use function inside() from part a. to write an expression that tests whether the point (1,1) lies in both of the following rectangles: one with lower left corner (0.3, 0.5) and upper right corner (1.1, 0.7) and the other with lower left corner (0.5, 0.2) and upper right corner (1.1, 2). "
   ]
  },
  {
   "cell_type": "code",
   "execution_count": 15,
   "id": "166f07c8",
   "metadata": {},
   "outputs": [
    {
     "name": "stdout",
     "output_type": "stream",
     "text": [
      "Inside(1,1,0,0,2,3)\n",
      "True\n",
      "Inside(-1,-1,0,0,2,3)\n",
      "False\n",
      "Inside(1,1,0.3,0.5,1.1,0.7)\n",
      "False\n",
      "Inside(1,1,0.5,0.2,1.1,2)\n",
      "True\n"
     ]
    }
   ],
   "source": [
    "public bool inside(double x,double y,double x1,double y1,double x2,double y2){\n",
    "    if (x > x1 && x < x2 && y > y1 && y < y2) \n",
    "        return true; \n",
    "    return false; \n",
    "} \n",
    "\n",
    "// 5a\n",
    "Console.WriteLine($\"Inside(1,1,0,0,2,3)\");\n",
    "Console.WriteLine($\"{inside(1,1,0,0,2,3)}\");\n",
    "\n",
    "Console.WriteLine($\"Inside(-1,-1,0,0,2,3)\");\n",
    "Console.WriteLine($\"{inside(-1,-1,0,0,2,3)}\");\n",
    "\n",
    "// 5b\n",
    "\n",
    "Console.WriteLine($\"Inside(1,1,0.3,0.5,1.1,0.7)\");\n",
    "Console.WriteLine($\"{inside(1,1,0.3,0.5,1.1,0.7)}\");\n",
    "\n",
    "Console.WriteLine($\"Inside(1,1,0.5,0.2,1.1,2)\");\n",
    "Console.WriteLine($\"{inside(1,1,0.5,0.2,1.1,2)}\");\n"
   ]
  }
 ],
 "metadata": {
  "kernelspec": {
   "display_name": ".NET (C#)",
   "language": "C#",
   "name": ".net-csharp"
  },
  "language_info": {
   "file_extension": ".cs",
   "mimetype": "text/x-csharp",
   "name": "C#",
   "pygments_lexer": "csharp",
   "version": "8.0"
  }
 },
 "nbformat": 4,
 "nbformat_minor": 5
}
